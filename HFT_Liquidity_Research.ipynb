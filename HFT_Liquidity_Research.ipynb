{
 "cells": [
  {
   "cell_type": "markdown",
   "id": "6ad89016-1a72-4923-adcb-d906617cac6e",
   "metadata": {},
   "source": [
    "# HFT Research For Dummies"
   ]
  },
  {
   "cell_type": "markdown",
   "id": "817604cf-d597-4f3f-81fc-97cd381c543c",
   "metadata": {},
   "source": [
    "A How To Guide On Doing HFT Research"
   ]
  },
  {
   "cell_type": "markdown",
   "id": "87df74cc-6f74-4ecd-a408-d6ab02f3a888",
   "metadata": {},
   "source": [
    "Reference: https://www.algos.org/p/hft-research-for-dummies?publication_id=1392884"
   ]
  },
  {
   "cell_type": "markdown",
   "id": "549c9496-8c7b-48ee-99c3-dce30ce85b19",
   "metadata": {},
   "source": [
    "## Introduction"
   ]
  },
  {
   "cell_type": "markdown",
   "id": "799f98d3-ca3b-478d-b3a3-f9a2ce1502e5",
   "metadata": {},
   "source": [
    "Today, I’ll talk about some general functions and activities in HFT research. It’s not an all encompassing guide by any means, but this tooling should end up being useful for you in your research endeavours. Certainly these are common tasks I have encountered."
   ]
  },
  {
   "cell_type": "markdown",
   "id": "fb5498d7-e20c-4dc2-8b46-92b2b7b2e979",
   "metadata": {},
   "source": [
    "## Index"
   ]
  },
  {
   "cell_type": "markdown",
   "id": "945964a5-311b-4e17-bfd3-b998169128ff",
   "metadata": {},
   "source": [
    "1. Introduction\n",
    "2. Index\n",
    "3. Orderbook Impacts   \n",
    "   a. SnapShot    \n",
    "   b. Incremental    \n",
    "4. Latency Analysis"
   ]
  },
  {
   "cell_type": "markdown",
   "id": "6977bcf6-e91c-4cb2-8d80-67ecca644b5c",
   "metadata": {},
   "source": [
    "### Orderbook Impacts - Snapshot"
   ]
  },
  {
   "cell_type": "markdown",
   "id": "c89c74ce-994d-4d36-8df1-39c8bae2953d",
   "metadata": {},
   "source": [
    "Usually we just need to find out whether the strategy works in the first place and we infer the capacity from the liquidity of the assets we trade, but in other occasions we need to figure out the impact of a certain size on the orderbook (or otherwise use this data to find the capacity of the strategy itself).    \n",
    "\n",
    "We’ll use tardis.dev data to do this, with the formats shown below, of which book_snapshot_25 will be out data type of use today: "
   ]
  },
  {
   "cell_type": "code",
   "execution_count": null,
   "id": "ec861085-3464-4971-a8a9-91f0303e8190",
   "metadata": {},
   "outputs": [],
   "source": []
  },
  {
   "cell_type": "markdown",
   "id": "3716d2a4-a191-4811-a224-ad4338fa1280",
   "metadata": {},
   "source": [
    "Let’s start by pulling some orderbook data for ETHUSDT on Bybit:"
   ]
  },
  {
   "cell_type": "code",
   "execution_count": 1,
   "id": "99ef2a7c-311c-47e4-a62b-948ab49938fb",
   "metadata": {},
   "outputs": [],
   "source": [
    "import asyncio\n",
    "import requests\n",
    "import nest_asyncio\n",
    "import json"
   ]
  },
  {
   "cell_type": "code",
   "execution_count": 2,
   "id": "20b4ef43-0303-475e-a981-db38d5aafe55",
   "metadata": {},
   "outputs": [],
   "source": [
    "import pandas as pd"
   ]
  },
  {
   "cell_type": "code",
   "execution_count": 32,
   "id": "5eefdfab-b69e-4c7b-9a53-4261d1973300",
   "metadata": {},
   "outputs": [
    {
     "name": "stderr",
     "output_type": "stream",
     "text": [
      "Fontconfig warning: \"/usr/local/etc/fonts/fonts.conf\", line 86: unknown element \"blank\"\n",
      "Matplotlib is building the font cache; this may take a moment.\n"
     ]
    }
   ],
   "source": [
    "import matplotlib.pyplot as plt"
   ]
  },
  {
   "cell_type": "code",
   "execution_count": 3,
   "id": "85fe57b1-8da5-4d8f-aa4f-1310f7a48fd7",
   "metadata": {},
   "outputs": [],
   "source": [
    "import ccxt"
   ]
  },
  {
   "cell_type": "code",
   "execution_count": 4,
   "id": "5245f778-c1d5-469d-bcdb-be17a3446da6",
   "metadata": {},
   "outputs": [],
   "source": [
    "from urllib import parse"
   ]
  },
  {
   "cell_type": "code",
   "execution_count": 5,
   "id": "d2f023cc-5e2e-4b11-8bf7-84c42197dea6",
   "metadata": {},
   "outputs": [],
   "source": [
    "from tardis_dev import datasets\n",
    "from tqdm import tqdm"
   ]
  },
  {
   "cell_type": "code",
   "execution_count": 6,
   "id": "f604676d-37b3-42a0-876c-dcc1c7f06272",
   "metadata": {},
   "outputs": [],
   "source": [
    "exchange_name = \"bybit\"\n",
    "symbol = \"ETHUSDT\"\n",
    "dtype=\"book_snapshot_25\"\n",
    "start_date = \"2024-01-01\"\n",
    "end_date = \"2024-01-03\""
   ]
  },
  {
   "cell_type": "code",
   "execution_count": null,
   "id": "23459563-6189-4552-ae99-31b912b88abe",
   "metadata": {},
   "outputs": [],
   "source": []
  },
  {
   "cell_type": "markdown",
   "id": "7bae2c60-04fc-4298-b4e0-51df24dcdd53",
   "metadata": {},
   "source": [
    "download from ccxt instead of tradis_dev"
   ]
  },
  {
   "cell_type": "code",
   "execution_count": 7,
   "id": "8b69297c-940b-41ce-817f-5cba34e6637a",
   "metadata": {},
   "outputs": [
    {
     "name": "stdout",
     "output_type": "stream",
     "text": [
      "Timestamp: None\n",
      "Bids (Price, Amount): [[2432.85, 32.9998], [2432.83, 1.9973], [2432.82, 3.9006], [2432.81, 0.003], [2432.8, 2.741]]\n",
      "Asks (Price, Amount): [[2432.86, 5.5796], [2432.87, 0.0021], [2432.88, 0.28], [2432.89, 0.0021], [2432.9, 0.0408]]\n"
     ]
    }
   ],
   "source": [
    "# ccxt를 이용하여 Binance 거래소에 접속\n",
    "exchange = ccxt.binance()\n",
    "\n",
    "# ETH/USDT의 order book 가져오기\n",
    "symbol = 'ETH/USDT'\n",
    "\n",
    "def fetch_order_book(symbol):\n",
    "    try:\n",
    "        # Binance에서 order book 데이터 가져오기\n",
    "        order_book = exchange.fetch_order_book(symbol)\n",
    "        \n",
    "        # 데이터를 출력 (혹은 원하는 방식으로 처리)\n",
    "        print(f\"Timestamp: {order_book['timestamp']}\")\n",
    "        print(f\"Bids (Price, Amount): {order_book['bids'][:5]}\")  # 상위 5개 매수 내역\n",
    "        print(f\"Asks (Price, Amount): {order_book['asks'][:5]}\")  # 상위 5개 매도 내역\n",
    "        return order_book\n",
    "\n",
    "    except Exception as e:\n",
    "        print(f\"Error fetching order book: {str(e)}\")\n",
    "\n",
    "# 실행\n",
    "order_book = fetch_order_book(symbol)\n"
   ]
  },
  {
   "cell_type": "code",
   "execution_count": 8,
   "id": "d405542f-f75a-4f98-97c6-6e4505cee80b",
   "metadata": {},
   "outputs": [],
   "source": [
    "bids = pd.DataFrame(order_book['bids'], columns=['price', 'qty'])\n",
    "asks = pd.DataFrame(order_book['asks'], columns=['price', 'qty']).sort_values('price', ascending=True)"
   ]
  },
  {
   "cell_type": "code",
   "execution_count": 9,
   "id": "6f8565ee-e1a1-47ce-977f-75a8f857a23c",
   "metadata": {},
   "outputs": [
    {
     "data": {
      "text/html": [
       "<div>\n",
       "<style scoped>\n",
       "    .dataframe tbody tr th:only-of-type {\n",
       "        vertical-align: middle;\n",
       "    }\n",
       "\n",
       "    .dataframe tbody tr th {\n",
       "        vertical-align: top;\n",
       "    }\n",
       "\n",
       "    .dataframe thead th {\n",
       "        text-align: right;\n",
       "    }\n",
       "</style>\n",
       "<table border=\"1\" class=\"dataframe\">\n",
       "  <thead>\n",
       "    <tr style=\"text-align: right;\">\n",
       "      <th></th>\n",
       "      <th>price</th>\n",
       "      <th>qty</th>\n",
       "    </tr>\n",
       "  </thead>\n",
       "  <tbody>\n",
       "    <tr>\n",
       "      <th>0</th>\n",
       "      <td>2432.85</td>\n",
       "      <td>32.9998</td>\n",
       "    </tr>\n",
       "    <tr>\n",
       "      <th>1</th>\n",
       "      <td>2432.83</td>\n",
       "      <td>1.9973</td>\n",
       "    </tr>\n",
       "    <tr>\n",
       "      <th>2</th>\n",
       "      <td>2432.82</td>\n",
       "      <td>3.9006</td>\n",
       "    </tr>\n",
       "    <tr>\n",
       "      <th>3</th>\n",
       "      <td>2432.81</td>\n",
       "      <td>0.0030</td>\n",
       "    </tr>\n",
       "    <tr>\n",
       "      <th>4</th>\n",
       "      <td>2432.80</td>\n",
       "      <td>2.7410</td>\n",
       "    </tr>\n",
       "  </tbody>\n",
       "</table>\n",
       "</div>"
      ],
      "text/plain": [
       "     price      qty\n",
       "0  2432.85  32.9998\n",
       "1  2432.83   1.9973\n",
       "2  2432.82   3.9006\n",
       "3  2432.81   0.0030\n",
       "4  2432.80   2.7410"
      ]
     },
     "execution_count": 9,
     "metadata": {},
     "output_type": "execute_result"
    }
   ],
   "source": [
    "bids.head()"
   ]
  },
  {
   "cell_type": "code",
   "execution_count": 10,
   "id": "f0ed70a0-8a37-4936-b070-2e73d896f7b4",
   "metadata": {},
   "outputs": [
    {
     "data": {
      "text/html": [
       "<div>\n",
       "<style scoped>\n",
       "    .dataframe tbody tr th:only-of-type {\n",
       "        vertical-align: middle;\n",
       "    }\n",
       "\n",
       "    .dataframe tbody tr th {\n",
       "        vertical-align: top;\n",
       "    }\n",
       "\n",
       "    .dataframe thead th {\n",
       "        text-align: right;\n",
       "    }\n",
       "</style>\n",
       "<table border=\"1\" class=\"dataframe\">\n",
       "  <thead>\n",
       "    <tr style=\"text-align: right;\">\n",
       "      <th></th>\n",
       "      <th>price</th>\n",
       "      <th>qty</th>\n",
       "    </tr>\n",
       "  </thead>\n",
       "  <tbody>\n",
       "    <tr>\n",
       "      <th>0</th>\n",
       "      <td>2432.86</td>\n",
       "      <td>5.5796</td>\n",
       "    </tr>\n",
       "    <tr>\n",
       "      <th>1</th>\n",
       "      <td>2432.87</td>\n",
       "      <td>0.0021</td>\n",
       "    </tr>\n",
       "    <tr>\n",
       "      <th>2</th>\n",
       "      <td>2432.88</td>\n",
       "      <td>0.2800</td>\n",
       "    </tr>\n",
       "    <tr>\n",
       "      <th>3</th>\n",
       "      <td>2432.89</td>\n",
       "      <td>0.0021</td>\n",
       "    </tr>\n",
       "    <tr>\n",
       "      <th>4</th>\n",
       "      <td>2432.90</td>\n",
       "      <td>0.0408</td>\n",
       "    </tr>\n",
       "  </tbody>\n",
       "</table>\n",
       "</div>"
      ],
      "text/plain": [
       "     price     qty\n",
       "0  2432.86  5.5796\n",
       "1  2432.87  0.0021\n",
       "2  2432.88  0.2800\n",
       "3  2432.89  0.0021\n",
       "4  2432.90  0.0408"
      ]
     },
     "execution_count": 10,
     "metadata": {},
     "output_type": "execute_result"
    }
   ],
   "source": [
    "asks.head()"
   ]
  },
  {
   "cell_type": "code",
   "execution_count": 11,
   "id": "b856fe59-f9c5-49f2-8c4e-e4557482e7db",
   "metadata": {},
   "outputs": [],
   "source": [
    "midprice = (bids.iloc[0]['price'] + asks.iloc[0]['price']) / 2"
   ]
  },
  {
   "cell_type": "code",
   "execution_count": null,
   "id": "e1e0fd68-86f6-4d87-8b70-e1e7f3771c54",
   "metadata": {},
   "outputs": [],
   "source": []
  },
  {
   "cell_type": "markdown",
   "id": "4523a8e9-5c92-469d-ad19-96dfd6e1f875",
   "metadata": {},
   "source": [
    "Anyways, we often need to find out the impact of our trades at a given timestamp, so hence we can use the below code to calculate the impact in bps:"
   ]
  },
  {
   "cell_type": "code",
   "execution_count": 12,
   "id": "e767a66b-8ab7-42ef-a195-4a3e93cf3069",
   "metadata": {},
   "outputs": [],
   "source": [
    "# original code\n",
    "def calculate_impact(row: pd.Series, order_size: float, side: str = 'buy') -> (str, str):\n",
    "    bids = [(row[f'bids[{i}].price'], row[f'bids[{i}].amount']) for i in range(25)]\n",
    "    asks = [(row[f'asks[{i}].price'], row[f'asks[{i}].amount']) for i in range(25)]\n",
    "    \n",
    "    bids = sorted(bids, key=lambda x: x[0], reverse=True)\n",
    "    asks = sorted(asks, key=lambda x: x[0])\n",
    "    \n",
    "    midprice = (bids[0][0] + asks[0][0]) / 2\n",
    "    \n",
    "    remaining_size = order_size\n",
    "    weighted_price = 0\n",
    "    \n",
    "    if side == 'buy':\n",
    "        for price, amount in asks:\n",
    "            if remaining_size <= 0:\n",
    "                break\n",
    "            filled = min(remaining_size, amount)\n",
    "            weighted_price += price * filled\n",
    "            remaining_size -= filled\n",
    "    else:  # sell\n",
    "        for price, amount in bids:\n",
    "            if remaining_size <= 0:\n",
    "                break\n",
    "            filled = min(remaining_size, amount)\n",
    "            weighted_price += price * filled\n",
    "            remaining_size -= filled\n",
    "    \n",
    "    avg_price = weighted_price / (order_size - remaining_size)\n",
    "    impact_bps = abs(avg_price - midprice) / midprice * 10000\n",
    "    \n",
    "    return impact_bps, remaining_size"
   ]
  },
  {
   "cell_type": "code",
   "execution_count": null,
   "id": "98fc68d0-1ed5-493d-81ea-c7be7bc02df9",
   "metadata": {},
   "outputs": [],
   "source": []
  },
  {
   "cell_type": "code",
   "execution_count": 13,
   "id": "eb1a6d58-69a6-4763-b4a3-2c6368535d2b",
   "metadata": {},
   "outputs": [],
   "source": [
    "# twisted code\n",
    "def calculate_impact_v2(bids: pd.DataFrame, asks: pd.DataFrame, order_size: float, side: str = 'buy') -> (str, str):\n",
    "    # bids = [(row[f'bids[{i}].price'], row[f'bids[{i}].amount']) for i in range(25)]\n",
    "    # asks = [(row[f'asks[{i}].price'], row[f'asks[{i}].amount']) for i in range(25)]\n",
    "    \n",
    "    # bids = sorted(bids, key=lambda x: x[0], reverse=True)\n",
    "    # asks = sorted(asks, key=lambda x: x[0])\n",
    "    \n",
    "    midprice = (bids.iloc[0]['price'] + asks.iloc[0]['price']) / 2\n",
    "    \n",
    "    remaining_size = order_size\n",
    "    weighted_price = 0\n",
    "    \n",
    "    if side == 'buy':\n",
    "        for row in asks.iterrows():\n",
    "            price = row[1]['price']\n",
    "            amount = row[1]['qty']\n",
    "            if remaining_size <= 0:\n",
    "                break\n",
    "            filled = min(remaining_size, amount)\n",
    "            weighted_price += price * filled\n",
    "            remaining_size -= filled\n",
    "    else:  # sell\n",
    "        for row in asks.iterrows():\n",
    "            price = row[1]['price']\n",
    "            amount = row[1]['qty']\n",
    "            if remaining_size <= 0:\n",
    "                break\n",
    "            filled = min(remaining_size, amount)\n",
    "            weighted_price += price * filled\n",
    "            remaining_size -= filled\n",
    "    \n",
    "    avg_price = weighted_price / (order_size - remaining_size)\n",
    "    impact_bps = abs(avg_price - midprice) / midprice * 10000\n",
    "    \n",
    "    return impact_bps, remaining_size"
   ]
  },
  {
   "cell_type": "code",
   "execution_count": 14,
   "id": "ba1ee186-3665-40db-9540-9af389db1d27",
   "metadata": {},
   "outputs": [],
   "source": [
    "order_size = 300\n",
    "side = 'buy'"
   ]
  },
  {
   "cell_type": "code",
   "execution_count": 15,
   "id": "affabfc5-379a-4d58-ba8b-b2e61b64f374",
   "metadata": {},
   "outputs": [],
   "source": [
    "result = calculate_impact_v2(bids, asks, order_size, side)"
   ]
  },
  {
   "cell_type": "code",
   "execution_count": 16,
   "id": "dd99ac93-ad0c-42ea-bd04-14a13c26129f",
   "metadata": {},
   "outputs": [
    {
     "data": {
      "text/plain": [
       "(np.float64(3.201563745746708), np.float64(0.0))"
      ]
     },
     "execution_count": 16,
     "metadata": {},
     "output_type": "execute_result"
    }
   ],
   "source": [
    "result"
   ]
  },
  {
   "cell_type": "code",
   "execution_count": null,
   "id": "8bd8f205-470f-440f-8d00-421599a278cb",
   "metadata": {},
   "outputs": [],
   "source": []
  },
  {
   "cell_type": "markdown",
   "id": "f332696a-971a-4218-a698-10a2efeff4f0",
   "metadata": {},
   "source": [
    "At this point, we can either use the empirical data and then extrapolate from there by fitting a square root law:"
   ]
  },
  {
   "cell_type": "code",
   "execution_count": 17,
   "id": "4da6d661-a101-49d9-9909-7a0fb713ba7b",
   "metadata": {},
   "outputs": [],
   "source": [
    "import numpy as np\n",
    "from scipy.optimize import curve_fit"
   ]
  },
  {
   "cell_type": "code",
   "execution_count": 18,
   "id": "d896a87c-a458-4547-9aea-6dd8c6152624",
   "metadata": {},
   "outputs": [],
   "source": [
    "# original code\n",
    "def calculate_impact_at_sizes(row, sizes, side='buy'):\n",
    "    bids = [(row[f'bids[{i}].price'], row[f'bids[{i}].amount']) for i in range(25)]\n",
    "    asks = [(row[f'asks[{i}].price'], row[f'asks[{i}].amount']) for i in range(25)]\n",
    "    \n",
    "    bids = sorted(bids, key=lambda x: x[0], reverse=True)\n",
    "    asks = sorted(asks, key=lambda x: x[0])\n",
    "    \n",
    "    midprice = (bids[0][0] + asks[0][0]) / 2\n",
    "    \n",
    "    impacts = []\n",
    "    for size in sizes:\n",
    "        remaining_size = size\n",
    "        weighted_price = 0\n",
    "        \n",
    "        if side == 'buy':\n",
    "            for price, amount in asks:\n",
    "                if remaining_size <= 0:\n",
    "                    break\n",
    "                filled = min(remaining_size, amount)\n",
    "                weighted_price += price * filled\n",
    "                remaining_size -= filled\n",
    "        else:  # sell\n",
    "            for price, amount in bids:\n",
    "                if remaining_size <= 0:\n",
    "                    break\n",
    "                filled = min(remaining_size, amount)\n",
    "                weighted_price += price * filled\n",
    "                remaining_size -= filled\n",
    "        \n",
    "        if size - remaining_size == 0:\n",
    "            impacts.append(0)  # Not enough liquidity\n",
    "        else:\n",
    "            avg_price = weighted_price / (size - remaining_size)\n",
    "            impact_bps = abs(avg_price - midprice) / midprice * 10000\n",
    "            impacts.append(impact_bps)\n",
    "    \n",
    "    return np.array(impacts)  \n",
    "\n",
    "def power_law(x, a, b):\n",
    "    return a * np.power(x, b)\n",
    "\n",
    "def estimate_impact_model(row, side='buy'):\n",
    "    sizes = np.logspace(0, 4, num=20)  # Adjust as necessary otherwise you'll have sizing tune issues\n",
    "    impacts = calculate_impact_at_sizes(row, sizes, side)\n",
    "    \n",
    "    valid_mask = impacts > 0 # Filter out zero impacts\n",
    "    valid_sizes = sizes[valid_mask]\n",
    "    valid_impacts = impacts[valid_mask]\n",
    "    \n",
    "    if len(valid_sizes) < 2:\n",
    "        return None, None  \n",
    "    \n",
    "    # Fit the power law\n",
    "    popt, _ = curve_fit(power_law, valid_sizes, valid_impacts, p0=[1, 0.5], bounds=([0, 0], [np.inf, 1]))\n",
    "    a, b = popt\n",
    "    \n",
    "    return a, b\n",
    "\n",
    "def predict_impact(size, a, b):\n",
    "    return power_law(size, a, b)"
   ]
  },
  {
   "cell_type": "code",
   "execution_count": 19,
   "id": "87a77249-9249-4899-a5c1-f43a7e66f079",
   "metadata": {},
   "outputs": [],
   "source": [
    "# twisted code\n",
    "def calculate_impact_at_sizes_v2(bids: pd.DataFrame, asks: pd.DataFrame, sizes, side='buy'):\n",
    "    # bids = [(row[f'bids[{i}].price'], row[f'bids[{i}].amount']) for i in range(25)]\n",
    "    # asks = [(row[f'asks[{i}].price'], row[f'asks[{i}].amount']) for i in range(25)]\n",
    "    \n",
    "    # bids = sorted(bids, key=lambda x: x[0], reverse=True)\n",
    "    # asks = sorted(asks, key=lambda x: x[0])\n",
    "    \n",
    "    # midprice = (bids[0][0] + asks[0][0]) / 2\n",
    "\n",
    "    midprice = (bids.iloc[0]['price'] + asks.iloc[0]['price']) / 2\n",
    "    \n",
    "    remaining_size = order_size\n",
    "    weighted_price = 0\n",
    "    \n",
    "    impacts = []\n",
    "    for size in sizes:\n",
    "        remaining_size = size     # 주문 수량을 remaining_size 에 저장\n",
    "        weighted_price = 0\n",
    "        \n",
    "        if side == 'buy':\n",
    "            for row in asks.iterrows():\n",
    "                price = row[1]['price']\n",
    "                amount = row[1]['qty']\n",
    "                if remaining_size <= 0:\n",
    "                    break\n",
    "                filled = min(remaining_size, amount)    # 호가잔량 (amount) 만큼 채결수량 (filled) 계산\n",
    "                weighted_price += price * filled        # 채결 수량 x 매도 호가 값을 가중 가격 값에 합산\n",
    "                remaining_size -= filled                # 남아 있는 주문수량에서 채결 수량 제거\n",
    "        elif side == 'sell':  # sell\n",
    "            for row in bids.iterrows():\n",
    "                price = row[1]['price']\n",
    "                amount = row[1]['qty']\n",
    "                if remaining_size <= 0:\n",
    "                    break\n",
    "                filled = min(remaining_size, amount)    # 호가잔량 (amount) 만큼 채결수량 (filled) 계산\n",
    "                weighted_price += price * filled        # 채결 수량 x 매도 호가 = 가중 가격\n",
    "                remaining_size -= filled                # 남아 있는 주문수량에서 채결 수량 제거\n",
    "        \n",
    "        if size - remaining_size == 0:                  # 주문수량 과 남아 있는 주문수량 값이 같으면 유동성 부족으로 등록\n",
    "            impacts.append(0)  # Not enough liquidity   \n",
    "        else:\n",
    "            avg_price = weighted_price / (size - remaining_size)   # 평균가격 = 가중가격합산 (sum(price x filled)) / 총체결수량 \n",
    "            impact_bps = abs(avg_price - midprice) / midprice * 10000  # market impact 계산 (https://en.wikipedia.org/wiki/Market_impact)\n",
    "            impacts.append(impact_bps)\n",
    "    \n",
    "    return np.array(impacts)"
   ]
  },
  {
   "cell_type": "code",
   "execution_count": 20,
   "id": "37b4fc84-8859-4a8b-b8e0-2a1d11c8afee",
   "metadata": {},
   "outputs": [],
   "source": [
    "# twisted code\n",
    "def estimate_impact_model_v2(bids: pd.DataFrame, asks: pd.DataFrame, side='buy'):\n",
    "    sizes = np.logspace(0, 4, num=20)  # Adjust as necessary otherwise you'll have sizing tune issues\n",
    "    impacts = calculate_impact_at_sizes_v2(bids, asks, sizes, side)\n",
    "    \n",
    "    valid_mask = impacts > 0 # Filter out zero impacts\n",
    "    valid_sizes = sizes[valid_mask]\n",
    "    valid_impacts = impacts[valid_mask]\n",
    "    \n",
    "    if len(valid_sizes) < 2:\n",
    "        return None, None  \n",
    "    \n",
    "    # Fit the power law\n",
    "    popt, _ = curve_fit(power_law, valid_sizes, valid_impacts, p0=[1, 0.5], bounds=([0, 0], [np.inf, 1]))\n",
    "    a, b = popt\n",
    "    \n",
    "    return a, b"
   ]
  },
  {
   "cell_type": "code",
   "execution_count": 21,
   "id": "5eb9a3b4-1487-4373-9e5f-de5653a1ef29",
   "metadata": {},
   "outputs": [],
   "source": [
    "sizes = np.logspace(0, 4, num=20)"
   ]
  },
  {
   "cell_type": "code",
   "execution_count": 34,
   "id": "d5d35529-139d-4210-8487-9b551ca5520a",
   "metadata": {},
   "outputs": [
    {
     "data": {
      "text/plain": [
       "array([1.00000000e+00, 1.62377674e+00, 2.63665090e+00, 4.28133240e+00,\n",
       "       6.95192796e+00, 1.12883789e+01, 1.83298071e+01, 2.97635144e+01,\n",
       "       4.83293024e+01, 7.84759970e+01, 1.27427499e+02, 2.06913808e+02,\n",
       "       3.35981829e+02, 5.45559478e+02, 8.85866790e+02, 1.43844989e+03,\n",
       "       2.33572147e+03, 3.79269019e+03, 6.15848211e+03, 1.00000000e+04])"
      ]
     },
     "execution_count": 34,
     "metadata": {},
     "output_type": "execute_result"
    }
   ],
   "source": [
    "sizes"
   ]
  },
  {
   "cell_type": "code",
   "execution_count": 36,
   "id": "8b9369a4-d2a6-4503-84eb-ffce0ca40ce2",
   "metadata": {},
   "outputs": [
    {
     "data": {
      "image/png": "[encoded data removed]",
      "text/plain": [
       "<Figure size 1000x400 with 1 Axes>"
      ]
     },
     "metadata": {},
     "output_type": "display_data"
    }
   ],
   "source": [
    "plt.figure(figsize=(10, 4))  # 그래프 크기 설정\n",
    "plt.plot(sizes)\n",
    "plt.grid(True)  # 그리드 추가\n",
    "plt.tight_layout()  # 레이아웃 조정\n",
    "plt.show()  # 그래프 출력"
   ]
  },
  {
   "cell_type": "code",
   "execution_count": 37,
   "id": "0501ec22-22cd-4a63-a3f3-6a9bf6278dee",
   "metadata": {},
   "outputs": [],
   "source": [
    "impacts = calculate_impact_at_sizes_v2(bids, asks, sizes, 'buy')"
   ]
  },
  {
   "cell_type": "code",
   "execution_count": 40,
   "id": "435b3d68-8573-4788-b1db-6e02bcd5d7e1",
   "metadata": {},
   "outputs": [
    {
     "data": {
      "text/plain": [
       "array([0.02055199, 0.02055199, 0.02055199, 0.02055199, 0.11836152,\n",
       "       0.42950402, 0.82828035, 1.18052574, 1.51204109, 1.86300941,\n",
       "       2.29439652, 2.76795788, 3.37338909, 4.3601763 , 4.3601763 ,\n",
       "       4.3601763 , 4.3601763 , 4.3601763 , 4.3601763 , 4.3601763 ])"
      ]
     },
     "execution_count": 40,
     "metadata": {},
     "output_type": "execute_result"
    }
   ],
   "source": [
    "impacts"
   ]
  },
  {
   "cell_type": "code",
   "execution_count": 39,
   "id": "759cadc0-34d7-459b-bd43-a2095bafb9f4",
   "metadata": {},
   "outputs": [
    {
     "data": {
      "image/png": "[encoded data removed]",
      "text/plain": [
       "<Figure size 1000x400 with 1 Axes>"
      ]
     },
     "metadata": {},
     "output_type": "display_data"
    }
   ],
   "source": [
    "plt.figure(figsize=(10, 4))  # 그래프 크기 설정\n",
    "plt.plot(sizes, impacts)\n",
    "plt.grid(True)  # 그리드 추가\n",
    "plt.tight_layout()  # 레이아웃 조정\n",
    "plt.show()  # 그래프 출력"
   ]
  },
  {
   "cell_type": "code",
   "execution_count": 22,
   "id": "d4a23e46-fd40-4d24-ae27-265e7048b31c",
   "metadata": {},
   "outputs": [
    {
     "name": "stdout",
     "output_type": "stream",
     "text": [
      "Buy Model: Impact = 0.6669 * size^0.2308\n",
      "Predicted buy impact for size 300: 2.49 bps\n"
     ]
    }
   ],
   "source": [
    "a_buy, b_buy = estimate_impact_model_v2(bids, asks, 'buy')\n",
    "if a_buy is not None:\n",
    "    print(f\"Buy Model: Impact = {a_buy:.4f} * size^{b_buy:.4f}\")\n",
    "    large_size = 300\n",
    "    predicted_impact = predict_impact(large_size, a_buy, b_buy)\n",
    "    print(f\"Predicted buy impact for size {large_size}: {predicted_impact:.2f} bps\")"
   ]
  },
  {
   "cell_type": "code",
   "execution_count": 23,
   "id": "a0bdcc00-6cea-463f-a1e6-b52098ee85be",
   "metadata": {},
   "outputs": [
    {
     "name": "stdout",
     "output_type": "stream",
     "text": [
      "Sell Model: Impact = 0.3246 * size^0.2952\n",
      "Predicted sell impact for size 300: 1.75 bps\n"
     ]
    }
   ],
   "source": [
    "a_sell, b_sell = estimate_impact_model_v2(bids, asks, 'sell')\n",
    "if a_sell is not None:\n",
    "    print(f\"Sell Model: Impact = {a_sell:.4f} * size^{b_sell:.4f}\")\n",
    "    large_size = 300\n",
    "    predicted_impact = predict_impact(large_size, a_sell, b_sell)\n",
    "    print(f\"Predicted sell impact for size {large_size}: {predicted_impact:.2f} bps\")"
   ]
  },
  {
   "cell_type": "markdown",
   "id": "1c03a452-bab1-41c3-8b5b-adefffef735c",
   "metadata": {},
   "source": [
    "You can also use the standard sqrt law rule, that's pretty accurate… or tune over a much longer horizon. I won’t go into this too much; it’s a dirty fix for when we don’t want to reconstruct the book on a live basis… which brings us to the next section."
   ]
  },
  {
   "cell_type": "code",
   "execution_count": null,
   "id": "1151739d-87cf-43d3-9b46-4768ce3d1705",
   "metadata": {},
   "outputs": [],
   "source": []
  },
  {
   "cell_type": "markdown",
   "id": "a78db2b5-9e80-458a-ba85-a59c91ec367b",
   "metadata": {},
   "source": [
    "## Orderbook Impacts - Incremental"
   ]
  },
  {
   "cell_type": "markdown",
   "id": "00dff258-7192-4e89-9f67-cd8e2c67f868",
   "metadata": {},
   "source": [
    "There are a few reasons to prefer the use of incremental orderbook data over snapshot data:"
   ]
  },
  {
   "cell_type": "markdown",
   "id": "a69f5d9f-ef5e-4d05-a3ab-57b16722f951",
   "metadata": {},
   "source": [
    "1. It’s far smaller to store on the disk because it avoids duplication.\n",
    "2. It comes from a feed that is typically slightly faster and would be the one used in production.\n",
    "3. It shows much more levels than the snapshot, allowing us to gauge the impact of greater sizes."
   ]
  },
  {
   "cell_type": "markdown",
   "id": "debe3ea2-38de-404d-bfe6-469f96654d67",
   "metadata": {},
   "source": [
    "Continuing from our previous data scraping, we’ll be using Tardis with the same symbol and exchange:"
   ]
  },
  {
   "cell_type": "code",
   "execution_count": 41,
   "id": "4a87a6bf-9fd3-4dc3-ab71-f8f8bf943634",
   "metadata": {},
   "outputs": [],
   "source": [
    "# original code\n",
    "dtype = \"incremental_book_L2\"\n",
    "\n",
    "# Loop through available exchanges\n",
    "for exchange_name in [exchange_name]:\n",
    "    # Loop through base tickers\n",
    "    for current_data_type in [dtype]:\n",
    "        # Normalizing Ticker Names Based On Exchange\n",
    "        current_symbol = symbol\n",
    "        \n",
    "        # Some tickers will not be available so are caught with an error\n",
    "        try:\n",
    "            datasets.download(\n",
    "                exchange=exchange_name,\n",
    "                data_types=[\n",
    "                    current_data_type\n",
    "                ],\n",
    "                from_date=start_date,\n",
    "                to_date=end_date,\n",
    "                symbols=[\n",
    "                    current_symbol\n",
    "                ],\n",
    "                download_dir=f\"D:/Market_Data/Digital_Assets/Tardis_Data/{exchange_name}/Futures/{current_symbol}/{current_data_type}\",\n",
    "                api_key=tardis_api_key,\n",
    "            )\n",
    "        except Exception as e:\n",
    "            pass"
   ]
  },
  {
   "cell_type": "markdown",
   "id": "15f0c4d7-c2b1-4c52-b524-db38bf5cacde",
   "metadata": {},
   "source": [
    "We can then go and build code to transform it into snapshots, but generated live. This is simply an orderbook problem - which I won’t get into here, but you can find many examples on GitHub. Often a BTree is used, but everyone has their own approach which balances the cost of inserts, reads, etc. "
   ]
  },
  {
   "cell_type": "markdown",
   "id": "bb21552c-44ae-4f89-a81f-d6f9391dd7f4",
   "metadata": {},
   "source": [
    "You can also use the Tardis Machine which replays the market via a normalized format historically, but can also be switched to live mode where it aggregates feeds behind the scenes. **It is like CCXT - but better. The live version is also free.**"
   ]
  },
  {
   "cell_type": "markdown",
   "id": "be8f9449-2b60-4ad1-83b4-6eba55804a84",
   "metadata": {},
   "source": [
    "## Latency Analysis"
   ]
  },
  {
   "cell_type": "markdown",
   "id": "29168219-275e-4f1e-b2ff-22a928385535",
   "metadata": {},
   "source": [
    "When it comes to HFT strategies, you often reach a point where latency cannot be ignored. Simply having great alphas and modelling is not enough—you also need to be competitive on the latency front. Most of this is concentrated on the cloud network engineering front, so let’s implement some practical experiments, ones that would typically be performed inside of top-tier firms’ latency research operations, to develop optimal network setups."
   ]
  },
  {
   "cell_type": "markdown",
   "id": "e8f47bf8-172c-4030-8f34-eb8e908223d6",
   "metadata": {},
   "source": [
    "### Why network latency is key"
   ]
  },
  {
   "cell_type": "markdown",
   "id": "41a919eb-136f-4bc5-bbe2-5905178f721e",
   "metadata": {},
   "source": [
    "Let’s start by assuming a normal distribution for latency — it isn’t and has quite the extreme tail, but this would only serve to further help our argument, so it doesn't matter much."
   ]
  },
  {
   "cell_type": "markdown",
   "id": "22187871-c8b0-466d-ac2c-37851e9b87dd",
   "metadata": {},
   "source": [
    "We start by simulating a quick scenario. Given some reasonable network latency assumptions for a volatile market, how often does someone with 1ms latency beat someone with 10us latency? It’s pretty clear that the improvement is quite minimal if we have 1ms compute latency vs. 10us compute latency. "
   ]
  },
  {
   "cell_type": "code",
   "execution_count": 44,
   "id": "541ce9ab-a811-4460-872a-2889f5a25da5",
   "metadata": {},
   "outputs": [
    {
     "data": {
      "text/plain": [
       "np.float64(48.5835)"
      ]
     },
     "execution_count": 44,
     "metadata": {},
     "output_type": "execute_result"
    }
   ],
   "source": [
    "import numpy as np\n",
    "\n",
    "# Parameter\n",
    "mean_network_latency = 30     # Mean Network latency in milliseconds\n",
    "std_network_latency = 20      # Standard deviation of network latency in millliseconds\n",
    "compute_latency_1 = 1             # Compute latency for scenario 1 in milliseconds\n",
    "compute_latency_2 = 0.01          # Compute latency for scenario 2 in milliseconds\n",
    "n_simulations = 1_000_000         # Number of simulations\n",
    "\n",
    "# Simulate network latencies\n",
    "network_latencies_1 = np.random.normal(mean_network_latency, std_network_latency, n_simulations)\n",
    "network_latencies_2 = np.random.normal(mean_network_latency, std_network_latency, n_simulations)\n",
    "\n",
    "# Calculate total latencies for both scenarios\n",
    "total_latency_1 = network_latencies_1 + compute_latency_1\n",
    "total_latency_2 = network_latencies_2 + compute_latency_2\n",
    "\n",
    "# Calculate how often total_latency_1 is less than total_latency_2\n",
    "count_1_beats_2 = np.sum(total_latency_1 < total_latency_2)\n",
    "\n",
    "# Calculate the percentage\n",
    "percentage_1_beats_2 = (count_1_beats_2 / n_simulations) * 100\n",
    "\n",
    "percentage_1_beats_2"
   ]
  },
  {
   "cell_type": "markdown",
   "id": "37f6f9ee-3082-4751-8232-32b6db76b512",
   "metadata": {},
   "source": [
    "**Network latency can shoot up to hundreds of milliseconds in extreme scenarios**, so having optimized network setups can keep your latency within normal ranges during this. This gives you an extraordinary edge that is practically impossible to beat with any sort of computing edge."
   ]
  },
  {
   "cell_type": "markdown",
   "id": "aaec96b3-6e34-46a3-b82b-16b58f44588a",
   "metadata": {},
   "source": [
    "Now, we’d be in a rough position if we had 10ms compute latency, so if you are latency-concerned, you will want to be using Rust or C++, but you won’t be doing complex optimizations of your code like in equities. Instead, you will be doing complex optimizations of your network, which we’ll cover in this article. "
   ]
  },
  {
   "cell_type": "code",
   "execution_count": null,
   "id": "1973a101-42b8-428c-9025-1b9a36ec5060",
   "metadata": {},
   "outputs": [],
   "source": []
  },
  {
   "cell_type": "markdown",
   "id": "b6ee207a-bc5a-4dbe-9ed8-72de648bbda0",
   "metadata": {},
   "source": [
    "### How to Record Latency (Correctly)"
   ]
  },
  {
   "cell_type": "code",
   "execution_count": 24,
   "id": "37aba400-8225-436f-b5fc-9cbe553dfffe",
   "metadata": {},
   "outputs": [],
   "source": [
    "import time\n",
    "from ping3 import ping, verbose_ping"
   ]
  },
  {
   "cell_type": "code",
   "execution_count": 25,
   "id": "2cfb6db2-1f9e-4683-949d-7ca4550637af",
   "metadata": {},
   "outputs": [],
   "source": [
    "# Binance domain to ping\n",
    "binance_domain = 'www.binance.com'"
   ]
  },
  {
   "cell_type": "code",
   "execution_count": 26,
   "id": "d22b0b4e-3b48-4e18-a0aa-6020849f1172",
   "metadata": {},
   "outputs": [],
   "source": [
    "# Perform a single ping and record the latency\n",
    "latency = ping(binance_domain)"
   ]
  },
  {
   "cell_type": "code",
   "execution_count": 27,
   "id": "6dab8d5d-7527-46a3-9632-2c98b17dc9c3",
   "metadata": {},
   "outputs": [
    {
     "name": "stdout",
     "output_type": "stream",
     "text": [
      "Latency to www.binance.com: 4.41 ms\n"
     ]
    }
   ],
   "source": [
    "# Check if latency is None (meaning the ping failed)\n",
    "if latency is not None:\n",
    "    print(f\"Latency to {binance_domain}: {latency * 1000:.2f} ms\")\n",
    "else:\n",
    "    print(f\"Ping to {binance_domain} failed\")"
   ]
  },
  {
   "cell_type": "code",
   "execution_count": 28,
   "id": "fc782581-a319-4541-a0ae-d1a97fd35c70",
   "metadata": {},
   "outputs": [],
   "source": [
    "# You can also record multiple pings for more accurate measurement\n",
    "latencies = []\n",
    "for _ in range(5):\n",
    "    latency = ping(binance_domain)\n",
    "    if latency is not None:\n",
    "        latencies.append(latency)\n",
    "    time.sleep(1)"
   ]
  },
  {
   "cell_type": "code",
   "execution_count": 29,
   "id": "9fe2e4f7-2ed3-4b05-9c8b-81a001438ff5",
   "metadata": {},
   "outputs": [
    {
     "name": "stdout",
     "output_type": "stream",
     "text": [
      "Average latency to www.binance.com: 5.62 ms\n"
     ]
    }
   ],
   "source": [
    "if latencies:\n",
    "    average_latency = sum(latencies) / len(latencies)\n",
    "    print(f\"Average latency to {binance_domain}: {average_latency * 1000:.2f} ms\")\n",
    "else:\n",
    "    print(\"All pings failed\")"
   ]
  }
 ],
 "metadata": {
  "kernelspec": {
   "display_name": "Python 3 (ipykernel)",
   "language": "python",
   "name": "python3"
  },
  "language_info": {
   "codemirror_mode": {
    "name": "ipython",
    "version": 3
   },
   "file_extension": ".py",
   "mimetype": "text/x-python",
   "name": "python",
   "nbconvert_exporter": "python",
   "pygments_lexer": "ipython3",
   "version": "3.10.9"
  }
 },
 "nbformat": 4,
 "nbformat_minor": 5
}
